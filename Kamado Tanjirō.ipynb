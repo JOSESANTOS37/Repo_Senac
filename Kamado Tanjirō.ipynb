{
 "cells": [
  {
   "cell_type": "markdown",
   "metadata": {},
   "source": [
    "O restaurante Kamado Tanjirō, especializado\n",
    "em culinária japonesa, está localizado na Av.\n",
    "Lúcio Costa, na Barra da Tijuca – RJ. Com um\n",
    "espaço de 100 m2, o restaurante oferece\n",
    "ambientes climatizados e área ao ar livre,\n",
    "atendendo a uma clientela exigente e\n",
    "crescente. Atualmente, a equipe conta com\n",
    "70 colaboradores, entre recepcionistas,\n",
    "garçons, cozinheiros e equipe administrativa.\n",
    "Com o aumento da demanda, a direção do restaurante decidiu automatizar\n",
    "o processo de atendimento, especialmente a realização de pedidos. Para\n",
    "isso, será desenvolvido um sistema simples que permita aos garçons:\n",
    "• Visualizar o cardápio digital.\n",
    "• Registrar os pedidos feitos pelos clientes.\n",
    "• Associar cada pedido à mesa e ao garçom responsável.\n",
    "• Gerar um número de pedido para que o cliente possa realizar o\n",
    "pagamento no caixa.\n",
    "Objetivo da atividade:\n",
    "Você deverá criar um programa em Python que simule esse sistema básico\n",
    "de pedidos. Para isso, será necessário implementar funções que\n",
    "representem as principais ações do restaurante.\n",
    "\n",
    "🔧Requisitos do sistema (funções que devem ser criadas):\n",
    "1. Função para exibir o cardápio\n",
    "Deve mostrar os pratos disponíveis, suas descrições e respectivos\n",
    "preços.\n",
    "2. Função para registrar um pedido\n",
    "Deve receber como parâmetros: número da mesa, nome do garçom e\n",
    "lista de itens escolhidos. A função deve calcular o valor total do\n",
    "pedido e gerar um número identificador.\n",
    "3. Função para fechar a conta\n",
    "Deve receber o número do pedido e exibir os detalhes: mesa, garçom,\n",
    "itens pedidos e valor total a ser pago."
   ]
  },
  {
   "cell_type": "code",
   "execution_count": 17,
   "metadata": {},
   "outputs": [
    {
     "name": "stdout",
     "output_type": "stream",
     "text": [
      " Cardápio Japonês \n",
      "1. Sunomono (salada de pepino com gergelim)\n",
      "2. Missoshiro (sopa de miso)\n",
      "3. Edamame (soja verde no vapor)\n",
      "4. Gyoza (pastelzinho japonês)\n",
      "5. Sushi de salmão\n",
      "6. Sushi de atum\n",
      "7. Sushi de camarão\n",
      "8. Sashimi de salmão\n",
      "9. Sashimi de atum\n",
      "10. Uramaki Califórnia (salmão, pepino, abacate e gergelim)\n",
      "11. Yakisoba de frango\n",
      "12. Tempurá de legumes\n",
      "13. Teppan-yaki de salmão\n",
      "14. Frango teriyaki\n",
      "15. Lamen tradicional (sopa com macarrão e carne de porco)\n",
      "16. Mochi (bolinho de arroz com recheio doce)\n",
      "17. Dorayaki (panquequinha recheada com doce de feijão azuki)\n",
      "18. Tempurá de sorvete\n",
      "19. Cheesecake de chá verde (matcha)\n",
      "20. Chá verde japonês\n"
     ]
    }
   ],
   "source": [
    "# Função para exibir o cardápio\n",
    "\n",
    "def cardapio_japones():\n",
    "    itens = [\n",
    "        \"Sunomono (salada de pepino com gergelim)\",\n",
    "        \"Missoshiro (sopa de miso)\",\n",
    "        \"Edamame (soja verde no vapor)\",\n",
    "        \"Gyoza (pastelzinho japonês)\",\n",
    "        \"Sushi de salmão\",\n",
    "        \"Sushi de atum\",\n",
    "        \"Sushi de camarão\",\n",
    "        \"Sashimi de salmão\",\n",
    "        \"Sashimi de atum\",\n",
    "        \"Uramaki Califórnia (salmão, pepino, abacate e gergelim)\",\n",
    "        \"Yakisoba de frango\",\n",
    "        \"Tempurá de legumes\",\n",
    "        \"Teppan-yaki de salmão\",\n",
    "        \"Frango teriyaki\",\n",
    "        \"Lamen tradicional (sopa com macarrão e carne de porco)\",\n",
    "        \"Mochi (bolinho de arroz com recheio doce)\",\n",
    "        \"Dorayaki (panquequinha recheada com doce de feijão azuki)\",\n",
    "        \"Tempurá de sorvete\",\n",
    "        \"Cheesecake de chá verde (matcha)\",\n",
    "        \"Chá verde japonês\"\n",
    "    ]\n",
    "\n",
    "    print(\" Cardápio Japonês \")\n",
    "    for i, item in enumerate(itens, 1):\n",
    "        print(f\"{i}. {item}\")\n",
    "\n",
    "# Exemplo de uso\n",
    "cardapio_japones()\n",
    "\n",
    "\n",
    "    \n"
   ]
  },
  {
   "cell_type": "code",
   "execution_count": null,
   "metadata": {},
   "outputs": [],
   "source": []
  }
 ],
 "metadata": {
  "kernelspec": {
   "display_name": "Python 3",
   "language": "python",
   "name": "python3"
  },
  "language_info": {
   "codemirror_mode": {
    "name": "ipython",
    "version": 3
   },
   "file_extension": ".py",
   "mimetype": "text/x-python",
   "name": "python",
   "nbconvert_exporter": "python",
   "pygments_lexer": "ipython3",
   "version": "3.11.4"
  },
  "orig_nbformat": 4
 },
 "nbformat": 4,
 "nbformat_minor": 2
}
