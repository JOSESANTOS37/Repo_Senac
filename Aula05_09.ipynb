{
 "cells": [
  {
   "cell_type": "markdown",
   "metadata": {},
   "source": [
    "Aula 06 05/09/2025"
   ]
  },
  {
   "cell_type": "code",
   "execution_count": 56,
   "metadata": {},
   "outputs": [
    {
     "name": "stdout",
     "output_type": "stream",
     "text": [
      "{'nome': 'ana', 'idade': 17, 'nota': 9.0}\n"
     ]
    }
   ],
   "source": [
    "#1 Criar dicionário correto para o aluno\n",
    "aluno = {'nome': 'ana', 'idade': 17, 'nota': 9.0}\n",
    "\n",
    "# Exibir o dicionário\n",
    "print(aluno)\n"
   ]
  },
  {
   "cell_type": "code",
   "execution_count": 57,
   "metadata": {},
   "outputs": [
    {
     "name": "stdout",
     "output_type": "stream",
     "text": [
      "ana\n"
     ]
    }
   ],
   "source": [
    "#2. Acessando o valores \n",
    "print(aluno['nome'])  # Saída: ana\n"
   ]
  },
  {
   "cell_type": "code",
   "execution_count": 58,
   "metadata": {},
   "outputs": [
    {
     "name": "stdout",
     "output_type": "stream",
     "text": [
      "{'nome': 'ana', 'idade': 17, 'nota': 9.0, 'turma': '3A'}\n"
     ]
    }
   ],
   "source": [
    "#3. Adicionando nova chave 'turma' com valor '3A'\n",
    "aluno['turma'] = '3A'\n",
    "\n",
    "# Exibindo o dicionário atualizado\n",
    "print(aluno)\n"
   ]
  },
  {
   "cell_type": "code",
   "execution_count": 59,
   "metadata": {},
   "outputs": [
    {
     "name": "stdout",
     "output_type": "stream",
     "text": [
      "{'nome': 'ana', 'nota': 9.0, 'turma': '3A'}\n"
     ]
    }
   ],
   "source": [
    "\n",
    "#4. Remover o item com a chave 'idade'\n",
    "del aluno['idade']\n",
    "\n",
    "# Exibir o dicionário após remoção\n",
    "print(aluno)\n"
   ]
  },
  {
   "cell_type": "code",
   "execution_count": 60,
   "metadata": {},
   "outputs": [
    {
     "name": "stdout",
     "output_type": "stream",
     "text": [
      "dict_keys(['nome', 'nota', 'turma'])\n",
      "dict_values(['ana', 9.0, '3A'])\n",
      "dict_items([('nome', 'ana'), ('nota', 9.0), ('turma', '3A')])\n"
     ]
    }
   ],
   "source": [
    "#5. obter apena chaves, valores ou ambos\n",
    "\n",
    "# Exibir apenas as chaves\n",
    "print(aluno.keys()) \n",
    "\n",
    "# Exibir apenas os valores\n",
    "print(aluno.values())   \n",
    "\n",
    "# Exibir pares chave:valor\n",
    "print(aluno.items())     "
   ]
  },
  {
   "cell_type": "code",
   "execution_count": 61,
   "metadata": {},
   "outputs": [
    {
     "name": "stdout",
     "output_type": "stream",
     "text": [
      "Nome encontrado\n"
     ]
    }
   ],
   "source": [
    "#6. Verificar se uma chave existe;\n",
    "if 'nome' in aluno:\n",
    "        print('Nome encontrado')\n",
    "else:\n",
    "            print('não encotrado')"
   ]
  },
  {
   "cell_type": "code",
   "execution_count": 62,
   "metadata": {},
   "outputs": [
    {
     "name": "stdout",
     "output_type": "stream",
     "text": [
      "3\n"
     ]
    }
   ],
   "source": [
    "\n",
    "#7 Tamanho do dicionário = número de pares chave:valor\n",
    "print(len(aluno))  # Saída: 3\n"
   ]
  },
  {
   "cell_type": "markdown",
   "metadata": {},
   "source": [
    "O dicionário acima tem 3 pares:\n",
    "\n",
    "'nome': 'ana' 'nota': 9.5 'turma': '3A'\n",
    "\n",
    "Então len(aluno) retorna 3 itensExplicação Simples:'''\n",
    "\n",
    "\n"
   ]
  },
  {
   "cell_type": "code",
   "execution_count": 63,
   "metadata": {},
   "outputs": [
    {
     "name": "stdout",
     "output_type": "stream",
     "text": [
      "nome: ana\n",
      "nota: 9.0\n",
      "turma: 3A\n"
     ]
    }
   ],
   "source": [
    "#10. iterar sobre o dicionário:\n",
    "for chave, valor in aluno.items():\n",
    "    print(f'{chave}: {valor}')"
   ]
  },
  {
   "cell_type": "code",
   "execution_count": 64,
   "metadata": {},
   "outputs": [
    {
     "name": "stdout",
     "output_type": "stream",
     "text": [
      "ana\n",
      "chave inexistente\n"
     ]
    }
   ],
   "source": [
    "#11\n",
    "\n",
    "print(aluno.get('nome')) \n",
    "print(aluno.get('endereco','chave inexistente')) "
   ]
  },
  {
   "cell_type": "code",
   "execution_count": 65,
   "metadata": {},
   "outputs": [
    {
     "name": "stdout",
     "output_type": "stream",
     "text": [
      "{'nome': 'ana', 'nota': 10, 'turma': '3A', 'cidade': 'Rio'}\n"
     ]
    }
   ],
   "source": [
    "#12 Atualizar um dicionário com outro;\n",
    "dados_novos = {'nota': 10, 'cidade': 'Rio'}\n",
    "aluno.update(dados_novos)\n",
    "print(aluno)"
   ]
  },
  {
   "cell_type": "code",
   "execution_count": 66,
   "metadata": {},
   "outputs": [
    {
     "name": "stdout",
     "output_type": "stream",
     "text": [
      "{'nome': 'ana', 'turma': '3A', 'cidade': 'Rio'}\n"
     ]
    }
   ],
   "source": [
    "#15 Apagar com retorno\n",
    "nota = aluno.pop('nota', 'chave não encontrada')\n",
    "print(aluno)"
   ]
  },
  {
   "cell_type": "markdown",
   "metadata": {},
   "source": [
    "## Atividade"
   ]
  },
  {
   "cell_type": "code",
   "execution_count": 89,
   "metadata": {},
   "outputs": [
    {
     "name": "stdout",
     "output_type": "stream",
     "text": [
      "{'nome': ',caixa', 'estoque': 25, 'preco': 25}\n"
     ]
    }
   ],
   "source": [
    "#1. Crie um dicionário chamado produto com as seguintes chaves e valores:\n",
    "\n",
    "produto = {}\n",
    "produto = {'nome': ',caixa', 'estoque': 25 ,'preco' :25}\n",
    " \n",
    "print(produto)"
   ]
  },
  {
   "cell_type": "code",
   "execution_count": 90,
   "metadata": {},
   "outputs": [
    {
     "name": "stdout",
     "output_type": "stream",
     "text": [
      "nome: ,caixa\n",
      "estoque: 25\n",
      "preco: 25\n"
     ]
    }
   ],
   "source": [
    "2# 2. Mostre todos os dados do produto usando um for\n",
    "\n",
    "for chave, valor in produto.items():\n",
    "    print(f'{chave}: {valor}')"
   ]
  },
  {
   "cell_type": "code",
   "execution_count": null,
   "metadata": {},
   "outputs": [
    {
     "ename": "IndentationError",
     "evalue": "unexpected indent (1259981993.py, line 4)",
     "output_type": "error",
     "traceback": [
      "  \u001b[36mCell\u001b[39m\u001b[36m \u001b[39m\u001b[32mIn[93]\u001b[39m\u001b[32m, line 4\u001b[39m\n\u001b[31m    \u001b[39m\u001b[31mif 'nome' in produto:\u001b[39m\n    ^\n\u001b[31mIndentationError\u001b[39m\u001b[31m:\u001b[39m unexpected indent\n"
     ]
    }
   ],
   "source": [
    "#3. Peça ao usuário para digitar o nome de uma chave que ele deseja consultar.\n",
    "\n",
    "produto = input(\"Digite o nome do produto que deseja consultar: \")\n",
    "    if 'nome' in produto:\n",
    "        print('Nome encontrado')\n",
    "    else:\n",
    "            print('não encotrado')\n"
   ]
  }
 ],
 "metadata": {
  "kernelspec": {
   "display_name": "Python 3",
   "language": "python",
   "name": "python3"
  },
  "language_info": {
   "codemirror_mode": {
    "name": "ipython",
    "version": 3
   },
   "file_extension": ".py",
   "mimetype": "text/x-python",
   "name": "python",
   "nbconvert_exporter": "python",
   "pygments_lexer": "ipython3",
   "version": "3.11.4"
  },
  "orig_nbformat": 4
 },
 "nbformat": 4,
 "nbformat_minor": 2
}
